{
 "cells": [
  {
   "cell_type": "markdown",
   "metadata": {},
   "source": [
    "## [C++] xtensor\n",
    "\n",
    "We can use `xtensor` C++ library natively in the Jupyter notebook with the xeus-cling kernel"
   ]
  },
  {
   "cell_type": "code",
   "execution_count": null,
   "metadata": {},
   "outputs": [],
   "source": [
    "%%file demo.cpp\n",
    "\n",
    "#include <numeric>               // Standard library import for std::accumulate\n",
    "#include <xtensor/xmath.hpp>     // xtensor import for the C++ universal functions\n",
    "\n",
    "template <class E>\n",
    "double sum_of_sines(E m)\n",
    "{\n",
    "    auto sines = xt::sin(m);\n",
    "    // return xt::sum(sines)();\n",
    "    return std::accumulate(sines.begin(), sines.end(), 0.0);\n",
    "}"
   ]
  },
  {
   "cell_type": "code",
   "execution_count": null,
   "metadata": {},
   "outputs": [],
   "source": [
    ">xcpp14\n",
    "\n",
    "#include <iostream>\n",
    "#include \"demo.cpp\"\n",
    "\n",
    "std::cout << \"HELLO C++ 14! \" << sum_of_sines(xt::arange<double>(10000.0));"
   ]
  },
  {
   "cell_type": "markdown",
   "metadata": {},
   "source": [
    "## [Python] xtensor-python\n",
    "\n",
    "We can expose the `sum_of_sines` to Python with `pybind11` and `xtensor-python`.\n",
    "\n",
    "```cpp\n",
    "#ifdef XPYTHON\n",
    "#include \"pybind11/pybind11.h\"            // Pybind11 import to define Python bindings\n",
    "#define FORCE_IMPORT_ARRAY\n",
    "#include \"xtensor-python/pyarray.hpp\"     // Numpy bindings\n",
    "\n",
    "PYBIND11_MODULE(xpython, m)\n",
    "{\n",
    "    xt::import_numpy();\n",
    "    m.doc() = \"Test module for xtensor python bindings\";\n",
    "\n",
    "    m.def(\"sum_of_sines\", sum_of_sines<xt::pyarray<double, xt::layout_type::row_major>>,\n",
    "                          \"Sum the sines of the input values\");\n",
    "}\n",
    "#endif\n",
    "```"
   ]
  },
  {
   "cell_type": "code",
   "execution_count": null,
   "metadata": {},
   "outputs": [],
   "source": [
    "%%bash\n",
    "rm -f xpython.cpp\n",
    "\n",
    "cp demo.cpp xpython.cpp\n",
    "\n",
    "cat << EOF >> xpython.cpp\n",
    "#include \"pybind11/pybind11.h\"            // Pybind11 import to define Python bindings\n",
    "#define FORCE_IMPORT_ARRAY\n",
    "#include \"xtensor-python/pyarray.hpp\"     // Numpy bindings\n",
    "\n",
    "PYBIND11_MODULE(xpython, m)\n",
    "{\n",
    "    xt::import_numpy();\n",
    "    m.doc() = \"Test module for xtensor python bindings\";\n",
    "\n",
    "    m.def(\"sum_of_sines\", sum_of_sines<xt::pyarray<double, xt::layout_type::row_major>>,\n",
    "                          \"Sum the sines of the input values\");\n",
    "}\n",
    "EOF"
   ]
  },
  {
   "cell_type": "code",
   "execution_count": null,
   "metadata": {},
   "outputs": [],
   "source": [
    "%%bash\n",
    "\n",
    "export PYTHON_INCLUDES=`python3-config --includes`\n",
    "export NUMPY_INCLUDES=`python -c \"import numpy; print(numpy.get_include())\"`\n",
    "\n",
    "$CXX -w -shared -fPIC \\\n",
    "     -I${CONDA_PREFIX}/include \\\n",
    "     -L${CONDA_PREFIX}/lib/ \\\n",
    "     -I${NUMPY_INCLUDES} \\\n",
    "     ${PYTHON_INCLUDES} \\\n",
    "     xpython.cpp -o xpython.so"
   ]
  },
  {
   "cell_type": "code",
   "execution_count": null,
   "metadata": {},
   "outputs": [],
   "source": [
    ">python3\n",
    "import numpy as np\n",
    "from xpython import sum_of_sines\n",
    "\n",
    "x = np.arange(10000.0)\n",
    "print(\"NumPy  : \", np.sum(np.sin(x)))\n",
    "print(\"xtensor: \", sum_of_sines(x))"
   ]
  },
  {
   "cell_type": "markdown",
   "metadata": {},
   "source": [
    "## [R] xtensor-r\n",
    "\n",
    "We can expose the `sum_of_sines` to R with `Rcpp` and `xtensor-r`.\n",
    "\n",
    "```c++\n",
    "#include <xtensor-r/rarray.hpp>       // R bindings\n",
    "#include <Rcpp.h>\n",
    "\n",
    "using namespace Rcpp;\n",
    "\n",
    "// [[Rcpp::plugins(cpp14)]]\n",
    "// [[Rcpp::export]]\n",
    "double sum_of_sines(const xt::rarray<double>& e)\n",
    "{\n",
    "    return sum_of_sines_impl(e);\n",
    "}\n",
    "#endif\n",
    "```"
   ]
  },
  {
   "cell_type": "code",
   "execution_count": null,
   "metadata": {},
   "outputs": [],
   "source": [
    "%%bash\n",
    "rm -f xr.cpp\n",
    "cp demo.cpp xr.cpp\n",
    "\n",
    "cat << EOF >> xr.cpp\n",
    "#include <xtensor-r/rarray.hpp>       // R bindings\n",
    "#include <Rcpp.h>\n",
    "using namespace Rcpp;\n",
    "\n",
    "// [[Rcpp::plugins(cpp14)]]\n",
    "// [[Rcpp::export]]\n",
    "double rsum_of_sines(const xt::rarray<double>& e) {\n",
    "    return sum_of_sines(e);\n",
    "}\n",
    "EOF"
   ]
  },
  {
   "cell_type": "code",
   "execution_count": null,
   "metadata": {},
   "outputs": [],
   "source": [
    ">ir\n",
    "conda_prefix <- Sys.getenv(\"CONDA_PREFIX\")\n",
    "Sys.setenv(PKG_CXXFLAGS=paste(\"-I\", conda_prefix, \"/include/\", sep=\"\"))\n",
    "Rcpp::sourceCpp(\"xr.cpp\");\n",
    "\n",
    "arr <- seq(0., 10000.0 - 1.0, 1.0)\n",
    "rsum_of_sines(arr)"
   ]
  },
  {
   "cell_type": "markdown",
   "metadata": {},
   "source": [
    "## [Julia]  xtensor-julia\n",
    "\n",
    "We can expose the `sum_of_sines` to Julia with `CxxWrap` and `xtensor-julia`.\n",
    "\n",
    "```c++\n",
    "#include \"jlcxx/jlcxx.hpp\"               // libcxxwrap import to define Julia bindings\n",
    "#include \"xtensor-julia/jlarray.hpp\"     // Import the jltensor container definition\n",
    "\n",
    "JLCXX_MODULE define_julia_module(jlcxx::Module& mod)\n",
    "{\n",
    "    mod.method(\"sum_of_sines\", sum_of_sines);\n",
    "}\n",
    "```\n",
    "\n",
    "Then in Julia\n",
    "\n",
    "```julia\n",
    "module xjulia\n",
    "  using CxxWrap\n",
    "  @wrapmodule(joinpath(\".\", \"xjulia\"))\n",
    "  function __init__()\n",
    "    @initcxx\n",
    "  end\n",
    "end\n",
    "```"
   ]
  },
  {
   "cell_type": "code",
   "execution_count": null,
   "metadata": {},
   "outputs": [],
   "source": [
    "%%bash\n",
    "rm -f xjulia.cpp\n",
    "cp demo.cpp xjulia.cpp\n",
    "\n",
    "cat << EOF >> xjulia.cpp\n",
    "#include \"jlcxx/jlcxx.hpp\"\n",
    "#include \"xtensor-julia/jlarray.hpp\"\n",
    "\n",
    "void foo() { static std::allocator<double> al; }\n",
    "\n",
    "JLCXX_MODULE define_julia_module(jlcxx::Module& mod)\n",
    "{\n",
    "    mod.method(\"sum_of_sines\", sum_of_sines<xt::jlarray<double>>);\n",
    "}\n",
    "\n",
    "EOF"
   ]
  },
  {
   "cell_type": "code",
   "execution_count": null,
   "metadata": {},
   "outputs": [],
   "source": [
    "%%bash\n",
    "\n",
    "$CXX -w -shared -fPIC \\\n",
    "     -I${CONDA_PREFIX}/include \\\n",
    "     -L${CONDA_PREFIX}/lib/ \\\n",
    "     -I${CONDA_PREFIX}/include/julia \\\n",
    "     -DJULIA_ENABLE_THREADING -ldl -lpthread \\\n",
    "     -lcxxwrap_julia \\\n",
    "     xjulia.cpp -o xjulia.so"
   ]
  },
  {
   "cell_type": "code",
   "execution_count": null,
   "metadata": {},
   "outputs": [],
   "source": [
    ">julia-1.0\n",
    "# This cell may take a long time to execute because of the IJulia precompilation\n",
    "\n",
    "module xjulia\n",
    "  using CxxWrap\n",
    "  @wrapmodule(joinpath(\".\", \"xjulia\"))\n",
    "  function __init__()\n",
    "    @initcxx\n",
    "  end\n",
    "end"
   ]
  },
  {
   "cell_type": "code",
   "execution_count": null,
   "metadata": {},
   "outputs": [],
   "source": [
    ">julia-1.0\n",
    "\n",
    "xjulia.sum_of_sines(collect(0.0:1.0:9999))"
   ]
  }
 ],
 "metadata": {
  "kernelspec": {
   "display_name": "All the Kernels",
   "language": "",
   "name": "atk"
  },
  "language_info": {
   "mimetype": "text/plain",
   "name": "all-of-them"
  }
 },
 "nbformat": 4,
 "nbformat_minor": 2
}
